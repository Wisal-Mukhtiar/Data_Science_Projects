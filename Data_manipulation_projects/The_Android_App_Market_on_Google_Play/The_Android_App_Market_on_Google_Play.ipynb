{
 "cells": [
  {
   "cell_type": "markdown",
   "metadata": {},
   "source": [
    "<font size=\"6\"> The Android App Market on Google Play </font>"
   ]
  },
  {
   "cell_type": "code",
   "execution_count": 58,
   "metadata": {},
   "outputs": [],
   "source": [
    "# importing the necessary modules\n",
    "import pandas as pd\n",
    "import numpy as np "
   ]
  },
  {
   "cell_type": "code",
   "execution_count": 41,
   "metadata": {},
   "outputs": [],
   "source": [
    "# reading the data sets\n",
    "apps = pd.read_csv('apps.csv')\n",
    "reviews_df = pd.read_csv('user_reviews.csv')"
   ]
  },
  {
   "cell_type": "markdown",
   "metadata": {},
   "source": [
    "A column named Installs is in string format that needed to be converted to integer, the following code convert each value \n",
    "of the column from string to integer and then replace the column"
   ]
  },
  {
   "cell_type": "code",
   "execution_count": 5,
   "metadata": {},
   "outputs": [],
   "source": [
    "#converting installs column from string columns to integer\n",
    "installs = []\n",
    "for value in apps[\"Installs\"].values:\n",
    "    if len(value) != 1 :\n",
    "        installs.append(int(value[:-1].replace(',','')))\n",
    "    else:\n",
    "        installs.append(0)\n",
    "apps[\"Installs\"] = installs"
   ]
  },
  {
   "cell_type": "markdown",
   "metadata": {},
   "source": [
    "the below code group the apps by category and find the mean of the apps' price per category and rating, also\n",
    "the count of the apps in each category is included "
   ]
  },
  {
   "cell_type": "code",
   "execution_count": 59,
   "metadata": {},
   "outputs": [],
   "source": [
    "app_category_info = apps.groupby(\"Category\").agg({'App':'count','Price':'mean','Rating':'mean'})\n",
    "app_category_info = app_category_info.rename(columns={'App':'Number of apps','Price':'Average price','Rating':'Average rating'}).reset_index()"
   ]
  },
  {
   "cell_type": "markdown",
   "metadata": {},
   "source": [
    "finding the free apps in Finance category "
   ]
  },
  {
   "cell_type": "code",
   "execution_count": 36,
   "metadata": {},
   "outputs": [],
   "source": [
    "filt = (apps[\"Category\"] == \"FINANCE\") & (apps['Type']=='Free')\n",
    "free_finance_apps = apps[filt]"
   ]
  },
  {
   "cell_type": "markdown",
   "metadata": {},
   "source": [
    "merge the free finance apps df with the reviews datasets accordingly on app column"
   ]
  },
  {
   "cell_type": "code",
   "execution_count": 44,
   "metadata": {},
   "outputs": [],
   "source": [
    "merge_df = pd.merge(free_finance_apps, reviews_df, on='App')"
   ]
  },
  {
   "cell_type": "markdown",
   "metadata": {},
   "source": [
    "finding the sentiment score for the free finance apps"
   ]
  },
  {
   "cell_type": "code",
   "execution_count": 50,
   "metadata": {},
   "outputs": [],
   "source": [
    "average_sentiment_score = merge_df.groupby(\"App\").agg({'Sentiment Score':'mean'})"
   ]
  },
  {
   "cell_type": "markdown",
   "metadata": {},
   "source": [
    "The top ten free Finance apps having the highest sentiment score"
   ]
  },
  {
   "cell_type": "code",
   "execution_count": 61,
   "metadata": {},
   "outputs": [],
   "source": [
    "top_10_user_feedback = average_sentiment_score.sort_values('Sentiment Score', ascending=False).head(10)"
   ]
  },
  {
   "cell_type": "code",
   "execution_count": null,
   "metadata": {},
   "outputs": [],
   "source": []
  }
 ],
 "metadata": {
  "kernelspec": {
   "display_name": "Python 3",
   "language": "python",
   "name": "python3"
  },
  "language_info": {
   "codemirror_mode": {
    "name": "ipython",
    "version": 3
   },
   "file_extension": ".py",
   "mimetype": "text/x-python",
   "name": "python",
   "nbconvert_exporter": "python",
   "pygments_lexer": "ipython3",
   "version": "3.8.5"
  }
 },
 "nbformat": 4,
 "nbformat_minor": 4
}
