{
 "cells": [
  {
   "cell_type": "markdown",
   "metadata": {},
   "source": [
    "# Laliga data set Analysis \n",
    "The laliga dataset contains the data from 1995 to 2020 seasons and we will analyze different seasons and draw some conclusion through visualizations"
   ]
  },
  {
   "cell_type": "code",
   "execution_count": null,
   "metadata": {},
   "outputs": [],
   "source": [
    "import pandas as pd\n",
    "import numpy as np\n",
    "import matplotlib.pyplot as plt"
   ]
  },
  {
   "cell_type": "code",
   "execution_count": null,
   "metadata": {},
   "outputs": [],
   "source": [
    "plt.rcParams['figure.figsize'] = [18, 5]\n",
    "pd.set_option('display.max_rows', 42)\n",
    "pd.options.mode.chained_assignment = None  # default='warn'"
   ]
  },
  {
   "cell_type": "code",
   "execution_count": null,
   "metadata": {},
   "outputs": [],
   "source": [
    "laliga = pd.read_csv('dataset/laliga.csv')"
   ]
  },
  {
   "cell_type": "code",
   "execution_count": null,
   "metadata": {},
   "outputs": [],
   "source": [
    "laliga"
   ]
  },
  {
   "cell_type": "code",
   "execution_count": null,
   "metadata": {},
   "outputs": [],
   "source": [
    "laliga.info()"
   ]
  },
  {
   "cell_type": "markdown",
   "metadata": {},
   "source": [
    "## Analysis of the 95-96 season"
   ]
  },
  {
   "cell_type": "code",
   "execution_count": null,
   "metadata": {},
   "outputs": [],
   "source": [
    "season_95 = laliga[laliga['Season'] == '1995-96']"
   ]
  },
  {
   "cell_type": "markdown",
   "metadata": {},
   "source": [
    "##### How many teams were in the season 1995-96"
   ]
  },
  {
   "cell_type": "code",
   "execution_count": null,
   "metadata": {},
   "outputs": [],
   "source": [
    "season_95['HomeTeam'].unique().size"
   ]
  },
  {
   "cell_type": "markdown",
   "metadata": {},
   "source": [
    "#### Who won the league?"
   ]
  },
  {
   "cell_type": "code",
   "execution_count": null,
   "metadata": {},
   "outputs": [],
   "source": [
    "# record will be stored for each team's away and home scored goals in a tuple form \n",
    "team_records = {}"
   ]
  },
  {
   "cell_type": "code",
   "execution_count": null,
   "metadata": {},
   "outputs": [],
   "source": [
    "for value,row in season_95.iterrows():\n",
    "    home = row['HomeTeam']\n",
    "    away = row['AwayTeam']\n",
    "    if row['FTR'] == 'H':\n",
    "        if home in team_records:\n",
    "            team_records[home] += 3\n",
    "        else:\n",
    "            team_records[home] = 3\n",
    "    elif row['FTR'] == 'A':\n",
    "        if away in team_records:\n",
    "            team_records[away] += 3\n",
    "        else:\n",
    "            team_records[away] = 3\n",
    "    else:\n",
    "        if away in team_records:\n",
    "            team_records[away] += 1\n",
    "        else:\n",
    "            team_records[away] = 1\n",
    "        \n",
    "        if home in team_records:\n",
    "            team_records[home] += 1\n",
    "        else:\n",
    "            team_records[home] = 1"
   ]
  },
  {
   "cell_type": "code",
   "execution_count": null,
   "metadata": {},
   "outputs": [],
   "source": [
    "def get_max(record):\n",
    "    \"\"\"Recieve the dictionary and return key with max value\"\"\"\n",
    "    val = list(record.values())\n",
    "    keys = list(record.keys())\n",
    "    return keys[val.index(max(val))]"
   ]
  },
  {
   "cell_type": "markdown",
   "metadata": {},
   "source": [
    "### Who won the league of 1995-96 season"
   ]
  },
  {
   "cell_type": "code",
   "execution_count": null,
   "metadata": {},
   "outputs": [],
   "source": [
    "print(f'{get_max(team_records)}  won the 1995-1996 league')"
   ]
  },
  {
   "cell_type": "markdown",
   "metadata": {},
   "source": [
    "## Analyzing the home, away wins and draws throughout the season for all teams"
   ]
  },
  {
   "cell_type": "code",
   "execution_count": null,
   "metadata": {},
   "outputs": [],
   "source": [
    "# seperating the dataFrames for away, home and draw\n",
    "home_wins_95 = season_95[season_95['FTR']=='H'].groupby('HomeTeam').agg({'FTR':'count'})\n",
    "away_wins_95 = season_95[season_95['FTR']=='A'].groupby('AwayTeam').agg({'FTR':'count'})\n",
    "draw_95 = season_95[season_95['FTR']=='D'].groupby('AwayTeam').agg({'FTR':'count'})"
   ]
  },
  {
   "cell_type": "code",
   "execution_count": null,
   "metadata": {},
   "outputs": [],
   "source": [
    "# renaming the column in the dataFrames and then combining into one\n",
    "home_wins_95.rename(columns={'FTR':'Home_wins'}, inplace=True)\n",
    "away_wins_95.rename(columns={'FTR':'Away_wins'}, inplace=True)\n",
    "draw_95.rename(columns={'FTR':'draws'}, inplace=True)"
   ]
  },
  {
   "cell_type": "code",
   "execution_count": null,
   "metadata": {},
   "outputs": [],
   "source": [
    "# merging the above dataFrames and renaming the index\n",
    "home_away_combined_df = home_wins_95.merge(away_wins_95, left_index=True, right_index=True)\n",
    "results_95 = home_away_combined_df.merge(draw_95, left_index=True, right_index=True)\n",
    "results_95.index.names = ['Team']\n",
    "results_95.sort_values(['Home_wins','Away_wins','draws'], ascending=False, inplace=True)"
   ]
  },
  {
   "cell_type": "code",
   "execution_count": null,
   "metadata": {
    "scrolled": true
   },
   "outputs": [],
   "source": [
    "results_95.plot(kind='bar')\n",
    "plt.show()"
   ]
  },
  {
   "cell_type": "code",
   "execution_count": null,
   "metadata": {},
   "outputs": [],
   "source": [
    "# converting the Date column from Object to Date \n",
    "season_95['Date'] = pd.to_datetime(season_95['Date'])"
   ]
  },
  {
   "cell_type": "markdown",
   "metadata": {},
   "source": [
    "##### Analysis of Top two teams, Valencia and Athletico Madrid's chamionship race "
   ]
  },
  {
   "cell_type": "code",
   "execution_count": null,
   "metadata": {},
   "outputs": [],
   "source": [
    "season_95.sort_values('Date', inplace=True)"
   ]
  },
  {
   "cell_type": "code",
   "execution_count": null,
   "metadata": {},
   "outputs": [],
   "source": [
    "valencia = season_95[(season_95['HomeTeam']=='Valencia') | (season_95['AwayTeam']=='Valencia')]\n",
    "athletico_madrid = season_95[(season_95['HomeTeam']=='Ath Madrid') | (season_95['AwayTeam']=='Ath Madrid')]"
   ]
  },
  {
   "cell_type": "code",
   "execution_count": null,
   "metadata": {},
   "outputs": [],
   "source": [
    "# to be executed on;y once\n",
    "valencia.reset_index(inplace=True)\n",
    "del valencia[\"index\"]\n",
    "\n",
    "athletico_madrid.reset_index(inplace=True)\n",
    "del athletico_madrid[\"index\"]"
   ]
  },
  {
   "cell_type": "code",
   "execution_count": null,
   "metadata": {
    "scrolled": true
   },
   "outputs": [],
   "source": [
    "#adding league score, represeting the full time score that will be made commulative latter on for title race after every match\n",
    "valencia[\"league_score\"] = 0\n",
    "athletico_madrid[\"league_score\"] = 0"
   ]
  },
  {
   "cell_type": "code",
   "execution_count": null,
   "metadata": {},
   "outputs": [],
   "source": [
    "#adding scores in \"league score column based on the match results\"\n",
    "for ind,row in valencia.iterrows():\n",
    "    if (row[\"AwayTeam\"] == \"Valencia\") & (row[\"FTR\"] == \"A\") :\n",
    "        valencia.loc[ind,\"league_score\"] = 3\n",
    "    elif (row[\"HomeTeam\"] == \"Valencia\") & (row[\"FTR\"] == \"H\") :\n",
    "        valencia.loc[ind,\"league_score\"] = 3\n",
    "    elif row[\"FTR\"] == \"D\":\n",
    "        valencia.loc[ind,\"league_score\"] = 1\n",
    "    else:\n",
    "        valencia.loc[ind,\"league_score\"] =0\n",
    "\n",
    "for ind,row in athletico_madrid.iterrows():\n",
    "    if (row[\"AwayTeam\"] == \"Ath Madrid\") & (row[\"FTR\"] == \"A\") :\n",
    "        athletico_madrid.loc[ind,\"league_score\"] = 3\n",
    "    elif (row[\"HomeTeam\"] == \"Ath Madrid\") & (row[\"FTR\"] == \"H\") :\n",
    "        athletico_madrid.loc[ind,\"league_score\"] = 3\n",
    "    elif row[\"FTR\"] == \"D\":\n",
    "        athletico_madrid.loc[ind,\"league_score\"] = 1\n",
    "    else:\n",
    "        athletico_madrid.loc[ind,\"league_score\"] =0"
   ]
  },
  {
   "cell_type": "code",
   "execution_count": null,
   "metadata": {},
   "outputs": [],
   "source": [
    "valencia[\"league_score\"] = valencia[\"league_score\"].cumsum()\n",
    "athletico_madrid[\"league_score\"] = athletico_madrid[\"league_score\"].cumsum()"
   ]
  },
  {
   "cell_type": "code",
   "execution_count": null,
   "metadata": {},
   "outputs": [],
   "source": [
    "lis = []\n",
    "for value in range(42):\n",
    "    lis.append(f\"Week{value+1}\")"
   ]
  },
  {
   "cell_type": "code",
   "execution_count": null,
   "metadata": {},
   "outputs": [],
   "source": [
    "fig, ax = plt.subplots()\n",
    "ax.plot(lis,valencia.league_score,label=\"Valencia\")\n",
    "ax.set_label(\"Valencia\")\n",
    "ax.plot(lis,athletico_madrid.league_score, label=\"Athletico Madrid\")\n",
    "plt.xticks(rotation=90)\n",
    "ax.set_label(\"Athletico Madrid\")\n",
    "ax.legend()\n",
    "plt.yticks([x+5 for x in range(0,90,5)])\n",
    "plt.show()"
   ]
  },
  {
   "cell_type": "code",
   "execution_count": null,
   "metadata": {},
   "outputs": [],
   "source": []
  }
 ],
 "metadata": {
  "kernelspec": {
   "display_name": "Python 3",
   "language": "python",
   "name": "python3"
  },
  "language_info": {
   "codemirror_mode": {
    "name": "ipython",
    "version": 3
   },
   "file_extension": ".py",
   "mimetype": "text/x-python",
   "name": "python",
   "nbconvert_exporter": "python",
   "pygments_lexer": "ipython3",
   "version": "3.8.5"
  }
 },
 "nbformat": 4,
 "nbformat_minor": 4
}
