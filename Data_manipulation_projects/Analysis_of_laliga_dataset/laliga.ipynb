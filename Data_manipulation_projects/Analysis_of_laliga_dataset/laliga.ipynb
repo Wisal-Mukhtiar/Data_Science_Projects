{
 "cells": [
  {
   "cell_type": "markdown",
   "metadata": {},
   "source": [
    "# Laliga data set Analysis \n",
    "The laliga dataset contains the data from 1995 to 2020 seasons and we will analyze different seasons and draw some conclusion through visualizations"
   ]
  },
  {
   "cell_type": "code",
   "execution_count": 1,
   "metadata": {},
   "outputs": [],
   "source": [
    "import pandas as pd\n",
    "import numpy as np\n",
    "import matplotlib.pyplot as plt"
   ]
  },
  {
   "cell_type": "code",
   "execution_count": 31,
   "metadata": {},
   "outputs": [],
   "source": [
    "plt.rcParams['figure.figsize'] = [18, 5]\n",
    "pd.set_option('display.max_rows', 42)\n",
    "pd.options.mode.chained_assignment = None  # default='warn'"
   ]
  },
  {
   "cell_type": "code",
   "execution_count": 3,
   "metadata": {},
   "outputs": [],
   "source": [
    "laliga = pd.read_csv('dataset/laliga.csv')"
   ]
  },
  {
   "cell_type": "code",
   "execution_count": 4,
   "metadata": {},
   "outputs": [
    {
     "data": {
      "text/html": [
       "<div>\n",
       "<style scoped>\n",
       "    .dataframe tbody tr th:only-of-type {\n",
       "        vertical-align: middle;\n",
       "    }\n",
       "\n",
       "    .dataframe tbody tr th {\n",
       "        vertical-align: top;\n",
       "    }\n",
       "\n",
       "    .dataframe thead th {\n",
       "        text-align: right;\n",
       "    }\n",
       "</style>\n",
       "<table border=\"1\" class=\"dataframe\">\n",
       "  <thead>\n",
       "    <tr style=\"text-align: right;\">\n",
       "      <th></th>\n",
       "      <th>Season</th>\n",
       "      <th>Date</th>\n",
       "      <th>HomeTeam</th>\n",
       "      <th>AwayTeam</th>\n",
       "      <th>FTHG</th>\n",
       "      <th>FTAG</th>\n",
       "      <th>FTR</th>\n",
       "      <th>HTHG</th>\n",
       "      <th>HTAG</th>\n",
       "      <th>HTR</th>\n",
       "    </tr>\n",
       "  </thead>\n",
       "  <tbody>\n",
       "    <tr>\n",
       "      <th>0</th>\n",
       "      <td>1995-96</td>\n",
       "      <td>2/9/1995</td>\n",
       "      <td>La Coruna</td>\n",
       "      <td>Valencia</td>\n",
       "      <td>3</td>\n",
       "      <td>0</td>\n",
       "      <td>H</td>\n",
       "      <td>2.0</td>\n",
       "      <td>0.0</td>\n",
       "      <td>H</td>\n",
       "    </tr>\n",
       "    <tr>\n",
       "      <th>1</th>\n",
       "      <td>1995-96</td>\n",
       "      <td>2/9/1995</td>\n",
       "      <td>Sp Gijon</td>\n",
       "      <td>Albacete</td>\n",
       "      <td>3</td>\n",
       "      <td>0</td>\n",
       "      <td>H</td>\n",
       "      <td>3.0</td>\n",
       "      <td>0.0</td>\n",
       "      <td>H</td>\n",
       "    </tr>\n",
       "    <tr>\n",
       "      <th>2</th>\n",
       "      <td>1995-96</td>\n",
       "      <td>3/9/1995</td>\n",
       "      <td>Ath Bilbao</td>\n",
       "      <td>Santander</td>\n",
       "      <td>4</td>\n",
       "      <td>0</td>\n",
       "      <td>H</td>\n",
       "      <td>2.0</td>\n",
       "      <td>0.0</td>\n",
       "      <td>H</td>\n",
       "    </tr>\n",
       "    <tr>\n",
       "      <th>3</th>\n",
       "      <td>1995-96</td>\n",
       "      <td>3/9/1995</td>\n",
       "      <td>Ath Madrid</td>\n",
       "      <td>Sociedad</td>\n",
       "      <td>4</td>\n",
       "      <td>1</td>\n",
       "      <td>H</td>\n",
       "      <td>1.0</td>\n",
       "      <td>1.0</td>\n",
       "      <td>D</td>\n",
       "    </tr>\n",
       "    <tr>\n",
       "      <th>4</th>\n",
       "      <td>1995-96</td>\n",
       "      <td>3/9/1995</td>\n",
       "      <td>Celta</td>\n",
       "      <td>Compostela</td>\n",
       "      <td>0</td>\n",
       "      <td>1</td>\n",
       "      <td>A</td>\n",
       "      <td>0.0</td>\n",
       "      <td>0.0</td>\n",
       "      <td>D</td>\n",
       "    </tr>\n",
       "    <tr>\n",
       "      <th>...</th>\n",
       "      <td>...</td>\n",
       "      <td>...</td>\n",
       "      <td>...</td>\n",
       "      <td>...</td>\n",
       "      <td>...</td>\n",
       "      <td>...</td>\n",
       "      <td>...</td>\n",
       "      <td>...</td>\n",
       "      <td>...</td>\n",
       "      <td>...</td>\n",
       "    </tr>\n",
       "    <tr>\n",
       "      <th>10039</th>\n",
       "      <td>2020-21</td>\n",
       "      <td>22/05/2021</td>\n",
       "      <td>Osasuna</td>\n",
       "      <td>Sociedad</td>\n",
       "      <td>0</td>\n",
       "      <td>1</td>\n",
       "      <td>A</td>\n",
       "      <td>0.0</td>\n",
       "      <td>0.0</td>\n",
       "      <td>D</td>\n",
       "    </tr>\n",
       "    <tr>\n",
       "      <th>10040</th>\n",
       "      <td>2020-21</td>\n",
       "      <td>22/05/2021</td>\n",
       "      <td>Real Madrid</td>\n",
       "      <td>Villarreal</td>\n",
       "      <td>2</td>\n",
       "      <td>1</td>\n",
       "      <td>H</td>\n",
       "      <td>0.0</td>\n",
       "      <td>1.0</td>\n",
       "      <td>A</td>\n",
       "    </tr>\n",
       "    <tr>\n",
       "      <th>10041</th>\n",
       "      <td>2020-21</td>\n",
       "      <td>22/05/2021</td>\n",
       "      <td>Valladolid</td>\n",
       "      <td>Ath Madrid</td>\n",
       "      <td>1</td>\n",
       "      <td>2</td>\n",
       "      <td>A</td>\n",
       "      <td>1.0</td>\n",
       "      <td>0.0</td>\n",
       "      <td>H</td>\n",
       "    </tr>\n",
       "    <tr>\n",
       "      <th>10042</th>\n",
       "      <td>2020-21</td>\n",
       "      <td>23/05/2021</td>\n",
       "      <td>Granada</td>\n",
       "      <td>Getafe</td>\n",
       "      <td>0</td>\n",
       "      <td>0</td>\n",
       "      <td>D</td>\n",
       "      <td>0.0</td>\n",
       "      <td>0.0</td>\n",
       "      <td>D</td>\n",
       "    </tr>\n",
       "    <tr>\n",
       "      <th>10043</th>\n",
       "      <td>2020-21</td>\n",
       "      <td>23/05/2021</td>\n",
       "      <td>Sevilla</td>\n",
       "      <td>Alaves</td>\n",
       "      <td>1</td>\n",
       "      <td>0</td>\n",
       "      <td>H</td>\n",
       "      <td>0.0</td>\n",
       "      <td>0.0</td>\n",
       "      <td>D</td>\n",
       "    </tr>\n",
       "  </tbody>\n",
       "</table>\n",
       "<p>10044 rows × 10 columns</p>\n",
       "</div>"
      ],
      "text/plain": [
       "        Season        Date     HomeTeam    AwayTeam  FTHG  FTAG FTR  HTHG  \\\n",
       "0      1995-96    2/9/1995    La Coruna    Valencia     3     0   H   2.0   \n",
       "1      1995-96    2/9/1995     Sp Gijon    Albacete     3     0   H   3.0   \n",
       "2      1995-96    3/9/1995   Ath Bilbao   Santander     4     0   H   2.0   \n",
       "3      1995-96    3/9/1995   Ath Madrid    Sociedad     4     1   H   1.0   \n",
       "4      1995-96    3/9/1995        Celta  Compostela     0     1   A   0.0   \n",
       "...        ...         ...          ...         ...   ...   ...  ..   ...   \n",
       "10039  2020-21  22/05/2021      Osasuna    Sociedad     0     1   A   0.0   \n",
       "10040  2020-21  22/05/2021  Real Madrid  Villarreal     2     1   H   0.0   \n",
       "10041  2020-21  22/05/2021   Valladolid  Ath Madrid     1     2   A   1.0   \n",
       "10042  2020-21  23/05/2021      Granada      Getafe     0     0   D   0.0   \n",
       "10043  2020-21  23/05/2021      Sevilla      Alaves     1     0   H   0.0   \n",
       "\n",
       "       HTAG HTR  \n",
       "0       0.0   H  \n",
       "1       0.0   H  \n",
       "2       0.0   H  \n",
       "3       1.0   D  \n",
       "4       0.0   D  \n",
       "...     ...  ..  \n",
       "10039   0.0   D  \n",
       "10040   1.0   A  \n",
       "10041   0.0   H  \n",
       "10042   0.0   D  \n",
       "10043   0.0   D  \n",
       "\n",
       "[10044 rows x 10 columns]"
      ]
     },
     "execution_count": 4,
     "metadata": {},
     "output_type": "execute_result"
    }
   ],
   "source": [
    "laliga"
   ]
  },
  {
   "cell_type": "code",
   "execution_count": 5,
   "metadata": {},
   "outputs": [
    {
     "name": "stdout",
     "output_type": "stream",
     "text": [
      "<class 'pandas.core.frame.DataFrame'>\n",
      "RangeIndex: 10044 entries, 0 to 10043\n",
      "Data columns (total 10 columns):\n",
      " #   Column    Non-Null Count  Dtype  \n",
      "---  ------    --------------  -----  \n",
      " 0   Season    10044 non-null  object \n",
      " 1   Date      10044 non-null  object \n",
      " 2   HomeTeam  10044 non-null  object \n",
      " 3   AwayTeam  10044 non-null  object \n",
      " 4   FTHG      10044 non-null  int64  \n",
      " 5   FTAG      10044 non-null  int64  \n",
      " 6   FTR       10044 non-null  object \n",
      " 7   HTHG      10042 non-null  float64\n",
      " 8   HTAG      10042 non-null  float64\n",
      " 9   HTR       10042 non-null  object \n",
      "dtypes: float64(2), int64(2), object(6)\n",
      "memory usage: 784.8+ KB\n"
     ]
    }
   ],
   "source": [
    "laliga.info()"
   ]
  },
  {
   "cell_type": "markdown",
   "metadata": {},
   "source": [
    "## Analysis of the 95-96 season"
   ]
  },
  {
   "cell_type": "code",
   "execution_count": 6,
   "metadata": {},
   "outputs": [],
   "source": [
    "season_95 = laliga[laliga['Season'] == '1995-96']"
   ]
  },
  {
   "cell_type": "markdown",
   "metadata": {},
   "source": [
    "##### How many teams were in the season 1995-96"
   ]
  },
  {
   "cell_type": "code",
   "execution_count": 7,
   "metadata": {},
   "outputs": [
    {
     "data": {
      "text/plain": [
       "22"
      ]
     },
     "execution_count": 7,
     "metadata": {},
     "output_type": "execute_result"
    }
   ],
   "source": [
    "season_95['HomeTeam'].unique().size"
   ]
  },
  {
   "cell_type": "markdown",
   "metadata": {},
   "source": [
    "#### Who won the league?"
   ]
  },
  {
   "cell_type": "code",
   "execution_count": 8,
   "metadata": {},
   "outputs": [],
   "source": [
    "# record will be stored for each team's away and home scored goals in a tuple form \n",
    "team_records = {}"
   ]
  },
  {
   "cell_type": "code",
   "execution_count": 9,
   "metadata": {},
   "outputs": [],
   "source": [
    "for value,row in season_95.iterrows():\n",
    "    home = row['HomeTeam']\n",
    "    away = row['AwayTeam']\n",
    "    if row['FTR'] == 'H':\n",
    "        if home in team_records:\n",
    "            team_records[home] += 3\n",
    "        else:\n",
    "            team_records[home] = 3\n",
    "    elif row['FTR'] == 'A':\n",
    "        if away in team_records:\n",
    "            team_records[away] += 3\n",
    "        else:\n",
    "            team_records[away] = 3\n",
    "    else:\n",
    "        if away in team_records:\n",
    "            team_records[away] += 1\n",
    "        else:\n",
    "            team_records[away] = 1\n",
    "        \n",
    "        if home in team_records:\n",
    "            team_records[home] += 1\n",
    "        else:\n",
    "            team_records[home] = 1"
   ]
  },
  {
   "cell_type": "code",
   "execution_count": 10,
   "metadata": {},
   "outputs": [],
   "source": [
    "def get_max(record):\n",
    "    \"\"\"Recieve the dictionary and return key with max value\"\"\"\n",
    "    val = list(record.values())\n",
    "    keys = list(record.keys())\n",
    "    return keys[val.index(max(val))]"
   ]
  },
  {
   "cell_type": "markdown",
   "metadata": {},
   "source": [
    "### Who won the league of 1995-96 season"
   ]
  },
  {
   "cell_type": "code",
   "execution_count": 11,
   "metadata": {},
   "outputs": [
    {
     "name": "stdout",
     "output_type": "stream",
     "text": [
      "Ath Madrid  won the 1995-1996 league\n"
     ]
    }
   ],
   "source": [
    "print(f'{get_max(team_records)}  won the 1995-1996 league')"
   ]
  },
  {
   "cell_type": "markdown",
   "metadata": {},
   "source": [
    "## Analyzing the home, away wins and draws throughout the season for all teams"
   ]
  },
  {
   "cell_type": "code",
   "execution_count": 12,
   "metadata": {},
   "outputs": [],
   "source": [
    "# seperating the dataFrames for away, home and draw\n",
    "home_wins_95 = season_95[season_95['FTR']=='H'].groupby('HomeTeam').agg({'FTR':'count'})\n",
    "away_wins_95 = season_95[season_95['FTR']=='A'].groupby('AwayTeam').agg({'FTR':'count'})\n",
    "draw_95 = season_95[season_95['FTR']=='D'].groupby('AwayTeam').agg({'FTR':'count'})"
   ]
  },
  {
   "cell_type": "code",
   "execution_count": 13,
   "metadata": {},
   "outputs": [],
   "source": [
    "# renaming the column in the dataFrames and then combining into one\n",
    "home_wins_95.rename(columns={'FTR':'Home_wins'}, inplace=True)\n",
    "away_wins_95.rename(columns={'FTR':'Away_wins'}, inplace=True)\n",
    "draw_95.rename(columns={'FTR':'draws'}, inplace=True)"
   ]
  },
  {
   "cell_type": "code",
   "execution_count": 14,
   "metadata": {},
   "outputs": [],
   "source": [
    "# merging the above dataFrames and renaming the index\n",
    "home_away_combined_df = home_wins_95.merge(away_wins_95, left_index=True, right_index=True)\n",
    "results_95 = home_away_combined_df.merge(draw_95, left_index=True, right_index=True)\n",
    "results_95.index.names = ['Team']\n",
    "results_95.sort_values(['Home_wins','Away_wins','draws'], ascending=False, inplace=True)"
   ]
  },
  {
   "cell_type": "code",
   "execution_count": 15,
   "metadata": {
    "scrolled": true
   },
   "outputs": [
    {
     "data": {
      "image/png": "[encoded data removed]",
      "text/plain": [
       "<Figure size 1296x360 with 1 Axes>"
      ]
     },
     "metadata": {
      "needs_background": "light"
     },
     "output_type": "display_data"
    }
   ],
   "source": [
    "results_95.plot(kind='bar')\n",
    "plt.show()"
   ]
  },
  {
   "cell_type": "code",
   "execution_count": 16,
   "metadata": {},
   "outputs": [],
   "source": [
    "# converting the Date column from Object to Date \n",
    "season_95['Date'] = pd.to_datetime(season_95['Date'])"
   ]
  },
  {
   "cell_type": "markdown",
   "metadata": {},
   "source": [
    "##### Analysis of Top three teams, Valencia and Athletico Madrid's chamionship race "
   ]
  },
  {
   "cell_type": "code",
   "execution_count": 17,
   "metadata": {},
   "outputs": [],
   "source": [
    "season_95.sort_values('Date', inplace=True)"
   ]
  },
  {
   "cell_type": "code",
   "execution_count": 34,
   "metadata": {},
   "outputs": [],
   "source": [
    "valencia = season_95[(season_95['HomeTeam']=='Valencia') | (season_95['AwayTeam']=='Valencia')]\n",
    "athletico_madrid = season_95[(season_95['HomeTeam']=='Ath Madrid') | (season_95['AwayTeam']=='Ath Madrid')]\n",
    "barcelona = season_95[(season_95['HomeTeam']=='Barcelona') | (season_95['AwayTeam']=='Barcelona')]"
   ]
  },
  {
   "cell_type": "code",
   "execution_count": 35,
   "metadata": {},
   "outputs": [],
   "source": [
    "# to be executed on;y once\n",
    "valencia.reset_index(inplace=True)\n",
    "del valencia[\"index\"]\n",
    "\n",
    "athletico_madrid.reset_index(inplace=True)\n",
    "del athletico_madrid[\"index\"]\n",
    "\n",
    "barcelona.reset_index(inplace=True)\n",
    "del barcelona[\"index\"]"
   ]
  },
  {
   "cell_type": "code",
   "execution_count": 36,
   "metadata": {
    "scrolled": true
   },
   "outputs": [],
   "source": [
    "#adding league score, represeting the full time score that will be made commulative latter on for title race after every match\n",
    "valencia[\"league_score\"] = 0\n",
    "athletico_madrid[\"league_score\"] = 0\n",
    "barcelona[\"league_score\"] = 0"
   ]
  },
  {
   "cell_type": "code",
   "execution_count": 42,
   "metadata": {},
   "outputs": [],
   "source": [
    "#adding scores in \"league score column based on the match results\"\n",
    "for ind,row in valencia.iterrows():\n",
    "    if (row[\"AwayTeam\"] == \"Valencia\") & (row[\"FTR\"] == \"A\") :\n",
    "        valencia.loc[ind,\"league_score\"] = 3\n",
    "    elif (row[\"HomeTeam\"] == \"Valencia\") & (row[\"FTR\"] == \"H\") :\n",
    "        valencia.loc[ind,\"league_score\"] = 3\n",
    "    elif row[\"FTR\"] == \"D\":\n",
    "        valencia.loc[ind,\"league_score\"] = 1\n",
    "    else:\n",
    "        valencia.loc[ind,\"league_score\"] =0\n",
    "\n",
    "for ind,row in athletico_madrid.iterrows():\n",
    "    if (row[\"AwayTeam\"] == \"Ath Madrid\") & (row[\"FTR\"] == \"A\") :\n",
    "        athletico_madrid.loc[ind,\"league_score\"] = 3\n",
    "    elif (row[\"HomeTeam\"] == \"Ath Madrid\") & (row[\"FTR\"] == \"H\") :\n",
    "        athletico_madrid.loc[ind,\"league_score\"] = 3\n",
    "    elif row[\"FTR\"] == \"D\":\n",
    "        athletico_madrid.loc[ind,\"league_score\"] = 1\n",
    "    else:\n",
    "        athletico_madrid.loc[ind,\"league_score\"] =0\n",
    "        \n",
    "for ind,row in barcelona.iterrows():\n",
    "    if (row[\"AwayTeam\"] == \"Barcelona\") & (row[\"FTR\"] == \"A\") :\n",
    "        barcelona.loc[ind,\"league_score\"] = 3\n",
    "    elif (row[\"HomeTeam\"] == \"Barcelona\") & (row[\"FTR\"] == \"H\") :\n",
    "        barcelona.loc[ind,\"league_score\"] = 3\n",
    "    elif row[\"FTR\"] == \"D\":\n",
    "        barcelona.loc[ind,\"league_score\"] = 1\n",
    "    else:\n",
    "        barcelona.loc[ind,\"league_score\"] =0"
   ]
  },
  {
   "cell_type": "code",
   "execution_count": 43,
   "metadata": {},
   "outputs": [],
   "source": [
    "valencia[\"league_score\"] = valencia[\"league_score\"].cumsum()\n",
    "athletico_madrid[\"league_score\"] = athletico_madrid[\"league_score\"].cumsum()\n",
    "barcelona[\"league_score\"] = barcelona[\"league_score\"].cumsum()"
   ]
  },
  {
   "cell_type": "code",
   "execution_count": 44,
   "metadata": {},
   "outputs": [],
   "source": [
    "lis = []\n",
    "for value in range(42):\n",
    "    lis.append(f\"Week{value+1}\")"
   ]
  },
  {
   "cell_type": "code",
   "execution_count": 46,
   "metadata": {},
   "outputs": [
    {
     "data": {
      "image/png": "[encoded data removed]",
      "text/plain": [
       "<Figure size 1296x360 with 1 Axes>"
      ]
     },
     "metadata": {},
     "output_type": "display_data"
    }
   ],
   "source": [
    "plt.style.use(\"bmh\")\n",
    "fig, ax = plt.subplots()\n",
    "ax.plot(lis,valencia.league_score,label=\"Valencia\",linewidth=3)\n",
    "ax.set_label(\"Valencia\")\n",
    "ax.plot(lis,athletico_madrid.league_score, label=\"Athletico Madrid\",linewidth=3)\n",
    "plt.xticks(rotation=90)\n",
    "ax.set_label(\"Athletico madrid\")\n",
    "ax.plot(lis,barcelona.league_score,label=\"barcelona\",linewidth=3)\n",
    "ax.legend()\n",
    "plt.yticks([x+5 for x in range(0,90,5)])\n",
    "plt.show()"
   ]
  },
  {
   "cell_type": "code",
   "execution_count": null,
   "metadata": {},
   "outputs": [],
   "source": []
  }
 ],
 "metadata": {
  "kernelspec": {
   "display_name": "Python 3",
   "language": "python",
   "name": "python3"
  },
  "language_info": {
   "codemirror_mode": {
    "name": "ipython",
    "version": 3
   },
   "file_extension": ".py",
   "mimetype": "text/x-python",
   "name": "python",
   "nbconvert_exporter": "python",
   "pygments_lexer": "ipython3",
   "version": "3.8.5"
  }
 },
 "nbformat": 4,
 "nbformat_minor": 4
}
